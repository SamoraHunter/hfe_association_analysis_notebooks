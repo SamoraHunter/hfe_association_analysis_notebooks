{
 "cells": [
  {
   "cell_type": "code",
   "execution_count": null,
   "id": "44a8f16c",
   "metadata": {},
   "outputs": [],
   "source": [
    "import pandas as pd"
   ]
  },
  {
   "cell_type": "code",
   "execution_count": null,
   "id": "8885838f",
   "metadata": {},
   "outputs": [],
   "source": [
    "#possibly need to filter years of dataset/prune earlier than vene/hfe to all hfe terms..."
   ]
  },
  {
   "cell_type": "code",
   "execution_count": null,
   "id": "8e27fe32",
   "metadata": {},
   "outputs": [],
   "source": [
    "pwd"
   ]
  },
  {
   "cell_type": "code",
   "execution_count": null,
   "id": "1518e03b",
   "metadata": {},
   "outputs": [],
   "source": [
    "# %%time\n",
    "# df = pd.read_csv('/data/AS/Samora/HFE/HFE/v21/df_combined_total_mean_10k.csv',engine=\"pyarrow\")"
   ]
  },
  {
   "cell_type": "code",
   "execution_count": null,
   "id": "bf8a1b30",
   "metadata": {},
   "outputs": [],
   "source": [
    "treatment_path = f'concatenated_data_curated_treatment_test_mult_2_t_True_10000.csv'"
   ]
  },
  {
   "cell_type": "code",
   "execution_count": null,
   "id": "6d962b5d",
   "metadata": {},
   "outputs": [],
   "source": [
    "%%time\n",
    "#df = pd.read_csv('/data/AS/Samora/HFE/HFE/v21/hfe_TC_merge_T_Im_10k_1yr_mean_imputed.csv',engine=\"pyarrow\")\n",
    "#df = pd.read_csv('/data/AS/Samora/HFE/HFE/v24 -h20/hfe_TC_merge_mean_Im_10k_1yr_forward_backward_imp_M_nonan.csv',engine=\"pyarrow\")\n",
    "df = pd.read_csv(f'/data/AS/Samora/HFE/HFE/v21/{treatment_path}',engine=\"pyarrow\")\n"
   ]
  },
  {
   "cell_type": "code",
   "execution_count": null,
   "id": "5a145b24",
   "metadata": {},
   "outputs": [],
   "source": [
    "import pandas as pd\n",
    "from mlxtend.frequent_patterns import apriori\n",
    "from mlxtend.frequent_patterns import association_rules\n"
   ]
  },
  {
   "cell_type": "code",
   "execution_count": null,
   "id": "cfde8f19",
   "metadata": {},
   "outputs": [],
   "source": [
    "%%time\n",
    "#df_raw_bu = df.copy()"
   ]
  },
  {
   "cell_type": "code",
   "execution_count": null,
   "id": "db021d72",
   "metadata": {},
   "outputs": [],
   "source": [
    "df"
   ]
  },
  {
   "cell_type": "code",
   "execution_count": null,
   "id": "3afffd1a",
   "metadata": {},
   "outputs": [],
   "source": [
    "%%time\n",
    "df = df.groupby('client_idcode').transform('mean')"
   ]
  },
  {
   "cell_type": "code",
   "execution_count": null,
   "id": "48ddaea4",
   "metadata": {},
   "outputs": [],
   "source": [
    "df"
   ]
  },
  {
   "cell_type": "code",
   "execution_count": null,
   "id": "9b0c545b",
   "metadata": {},
   "outputs": [],
   "source": [
    "%%time\n",
    "# Fill missing values with a placeholder\n",
    "df.fillna(-1, inplace=True)"
   ]
  },
  {
   "cell_type": "code",
   "execution_count": null,
   "id": "3381ee8e",
   "metadata": {},
   "outputs": [],
   "source": [
    "df"
   ]
  },
  {
   "cell_type": "code",
   "execution_count": null,
   "id": "a333933f",
   "metadata": {},
   "outputs": [],
   "source": [
    "# Convert data to binary format (1 for present, 0 for absent)\n",
    "df = (df >= 1).astype(int)"
   ]
  },
  {
   "cell_type": "code",
   "execution_count": null,
   "id": "a878eabf",
   "metadata": {},
   "outputs": [],
   "source": [
    "# Apply Apriori algorithm to find frequent itemsets\n",
    "frequent_itemsets = apriori(df, min_support=0.4, use_colnames=True)\n",
    "\n",
    "# Generate association rules\n",
    "rules = association_rules(frequent_itemsets, metric=\"lift\", min_threshold=1.0)\n",
    "\n",
    "print(\"Frequent Itemsets:\")\n",
    "frequent_itemsets"
   ]
  },
  {
   "cell_type": "code",
   "execution_count": null,
   "id": "8badbe4d",
   "metadata": {},
   "outputs": [],
   "source": [
    "print(\"\\nAssociation Rules:\")\n",
    "rules"
   ]
  },
  {
   "cell_type": "code",
   "execution_count": null,
   "id": "bb3e7990",
   "metadata": {},
   "outputs": [],
   "source": [
    "df['Hemochromatosis gene screening test (procedure)_count_subject_present'].value_counts()"
   ]
  },
  {
   "cell_type": "code",
   "execution_count": null,
   "id": "f69807ef",
   "metadata": {
    "scrolled": true
   },
   "outputs": [],
   "source": [
    "df['Phlebotomy (procedure)_count_subject_present'].value_counts()"
   ]
  },
  {
   "cell_type": "code",
   "execution_count": null,
   "id": "97907d7e",
   "metadata": {},
   "outputs": [],
   "source": [
    "df['Phlebotomy (procedure)_count'].value_counts()"
   ]
  },
  {
   "cell_type": "code",
   "execution_count": null,
   "id": "7491aa70",
   "metadata": {},
   "outputs": [],
   "source": [
    "for col in df.columns:\n",
    "    if(col.lower().find('phleb')!=-1):\n",
    "        print(col)"
   ]
  },
  {
   "cell_type": "code",
   "execution_count": null,
   "id": "f79cc577",
   "metadata": {},
   "outputs": [],
   "source": [
    "df = df.loc[:,df.apply(pd.Series.nunique) != 1]"
   ]
  },
  {
   "cell_type": "code",
   "execution_count": null,
   "id": "24eef85f",
   "metadata": {},
   "outputs": [],
   "source": [
    "df.dropna(axis=1, how='all', inplace=True)"
   ]
  },
  {
   "cell_type": "code",
   "execution_count": null,
   "id": "a8998221",
   "metadata": {},
   "outputs": [],
   "source": [
    "df.drop(['level_0'], axis=1, inplace=True)"
   ]
  },
  {
   "cell_type": "code",
   "execution_count": null,
   "id": "5daeac17",
   "metadata": {},
   "outputs": [],
   "source": [
    "df"
   ]
  },
  {
   "cell_type": "code",
   "execution_count": null,
   "id": "0b08f3cd",
   "metadata": {},
   "outputs": [],
   "source": [
    "df[df.columns[396:470]]"
   ]
  },
  {
   "cell_type": "code",
   "execution_count": null,
   "id": "e1a82fb8",
   "metadata": {},
   "outputs": [],
   "source": [
    "%%time\n",
    "dfs = df.loc[:,df.apply(pd.Series.nunique) != 1]"
   ]
  },
  {
   "cell_type": "code",
   "execution_count": null,
   "id": "cd08f341",
   "metadata": {},
   "outputs": [],
   "source": [
    "dfs"
   ]
  },
  {
   "cell_type": "markdown",
   "id": "8aa5f02e",
   "metadata": {},
   "source": [
    "reversing imputation and one hot encoding\n",
    "\n",
    "if the variable is not an annotation then is it equal to the most common value... this will be the imputed?\n",
    "\n",
    "\n",
    "\n"
   ]
  },
  {
   "cell_type": "code",
   "execution_count": null,
   "id": "44486bc4",
   "metadata": {},
   "outputs": [],
   "source": [
    "%%time\n",
    "value_counts = dfs.value_counts()\n",
    "\n",
    "# Convert the Series to a dataframe using to_frame()\n",
    "dfc = value_counts.to_frame()\n",
    "\n",
    "# Rename the columns to something more descriptive\n",
    "dfc.columns = ['Count']"
   ]
  },
  {
   "cell_type": "code",
   "execution_count": null,
   "id": "1f821b12",
   "metadata": {},
   "outputs": [],
   "source": [
    "unique_counts = {}\n",
    "for col in dfs.columns:\n",
    "    unique_counts[col] = dfs[col].nunique()\n",
    "\n",
    "# create new DataFrame from dictionary\n",
    "unique_counts_df = pd.DataFrame.from_dict(unique_counts, orient='index', columns=['Unique Values'])\n"
   ]
  },
  {
   "cell_type": "code",
   "execution_count": null,
   "id": "9c2fe972",
   "metadata": {},
   "outputs": [],
   "source": [
    "unique_counts_df.sort_values(by='Unique Values', ascending=False)[0:100]"
   ]
  },
  {
   "cell_type": "code",
   "execution_count": null,
   "id": "026f1d3e",
   "metadata": {},
   "outputs": [],
   "source": [
    "#run only on annotations\n",
    "#also run on full vector, if not missing as true/false?"
   ]
  },
  {
   "cell_type": "code",
   "execution_count": null,
   "id": "5f3cc2e5",
   "metadata": {},
   "outputs": [],
   "source": [
    "df['Globulin_mean'].value_counts()"
   ]
  },
  {
   "cell_type": "code",
   "execution_count": null,
   "id": "b4ae369b",
   "metadata": {
    "scrolled": true
   },
   "outputs": [],
   "source": [
    "df['Family history of hemochromatosis (situation)_count_subject_present'].value_counts()"
   ]
  },
  {
   "cell_type": "code",
   "execution_count": null,
   "id": "7cd41856",
   "metadata": {},
   "outputs": [],
   "source": [
    "df['census_white'].mean()"
   ]
  },
  {
   "cell_type": "code",
   "execution_count": null,
   "id": "5449814f",
   "metadata": {},
   "outputs": [],
   "source": [
    "df.iloc[0]['census_white'] == df['census_white'].mean()"
   ]
  },
  {
   "cell_type": "code",
   "execution_count": null,
   "id": "7a05843c",
   "metadata": {},
   "outputs": [],
   "source": [
    "all_df_columns = dfs.columns"
   ]
  },
  {
   "cell_type": "code",
   "execution_count": null,
   "id": "f1251bd1",
   "metadata": {},
   "outputs": [],
   "source": [
    "annotation_mrc_count_list = list(filter(lambda k: '_count_mrc_cs' in k, all_df_columns))\n",
    "print(f\"_count_mrc_cs:        {len(annotation_mrc_count_list)}\")\n",
    "    \n",
    "meta_sp_annotation_mrc_count_list = list(filter(lambda k: '_count_subject_present_mrc_cs' in k, all_df_columns))\n",
    "print(f\"_count_subject_present_mrc_cs_list:        {len(meta_sp_annotation_mrc_count_list)}\")\n",
    "    \n",
    "meta_sp_annotation_count_list = list(filter(lambda k: '_count_subject_present' in k, all_df_columns))\n",
    "print(f\"_count_subject_present: {len(meta_sp_annotation_count_list)}\")\n",
    "\n",
    "annotation_count_list = list(filter(lambda k: '_count' in k and '_count_subject_present' not in k, all_df_columns))\n",
    "print(f\"count_list:             {len(annotation_count_list)}\")\n",
    "\n",
    "\n",
    "\n",
    "all_annot_list = []\n",
    "all_annot_list.extend(annotation_mrc_count_list)\n",
    "all_annot_list.extend(meta_sp_annotation_mrc_count_list)\n",
    "all_annot_list.extend(meta_sp_annotation_count_list)\n",
    "all_annot_list.extend(annotation_count_list)\n",
    "\n",
    "print(len(all_annot_list))"
   ]
  },
  {
   "cell_type": "code",
   "execution_count": null,
   "id": "051382dc",
   "metadata": {},
   "outputs": [],
   "source": [
    "pd.set_option('display.max_rows', 100)"
   ]
  },
  {
   "cell_type": "code",
   "execution_count": null,
   "id": "c48730c5",
   "metadata": {},
   "outputs": [],
   "source": [
    "dfs[all_annot_list]"
   ]
  },
  {
   "cell_type": "code",
   "execution_count": null,
   "id": "ac99585d",
   "metadata": {},
   "outputs": [],
   "source": [
    "misc_cols = ['Kent (geographic location)_count_relative_not_present',\n",
    " 'Continuous (qualifier value)_count_subject_present',\n",
    " 'Tests (qualifier value)_count_subject_present',\n",
    " 'Letter (record artifact)_count',\n",
    " 'Email (qualifier value)_count_relative_not_present',\n",
    " 'Clinic (environment)_count_subject_present',\n",
    " 'Road (environment)_count_subject_present',\n",
    " 'week (qualifier value)_count_subject_present',\n",
    " 'Patient referral (procedure)_count_subject_not_present',\n",
    " 'Hospital department (environment)_count',\n",
    " 'Consultant (occupation)_count_subject_not_present',\n",
    " 'Continuous (qualifier value)_count',\n",
    " 'Evaluation procedure (procedure)_count_subject_present',\n",
    " 'Letter (record artifact)_count_relative_not_present',\n",
    " 'Evaluation procedure (procedure)_count_subject_not_present',\n",
    " 'Discussion (procedure)_count_subject_present',\n",
    " 'Possible (qualifier value)_count_subject_present',\n",
    " 'Denmark (geographic location)_count',\n",
    " 'Clinic (environment)_count_relative_not_present',\n",
    " 'Hospital (environment)_count_subject_present',\n",
    " 'Hospital (environment)_count',\n",
    " 'Accident and Emergency department (environment)_count_subject_present',\n",
    " 'Discharged from hospital (finding)_count_subject_present',\n",
    " 'Hill (environment)_count_subject_present',\n",
    " 'Clinical (qualifier value)_count',\n",
    " 'year (qualifier value)_count_subject_present',\n",
    " 'Evaluation procedure (procedure)_count_relative_not_present',\n",
    " 'Hospital department (environment)_count_relative_not_present',\n",
    " 'Letter (record artifact)_count_subject_present',\n",
    " 'Patient need for (contextual qualifier) (qualifier value)_count_subject_present',\n",
    " 'Normal (qualifier value)_count_relative_not_present',\n",
    " 'Under care of team (finding)_count_subject_present_mrc_cs',\n",
    " '9000 (qualifier value)_count_subject_present',\n",
    " 'Including (qualifier value)_count_subject_present',\n",
    " 'Result (navigational concept)_count_subject_present',\n",
    " 'Appointment (record artifact)_count_relative_not_present',\n",
    " 'Plan (record artifact)_count_subject_present',\n",
    " 'Under care of team (finding)_count_subject_present',\n",
    " 'College (environment)_count_subject_not_present',\n",
    " 'Email (qualifier value)_count_subject_present',\n",
    " 'Denmark (geographic location)_count_subject_present',\n",
    " 'Consultant (occupation)_count_relative_not_present',\n",
    " '9000 (qualifier value)_count',\n",
    " 'Sounding (procedure)_count_subject_present',\n",
    " 'Secretary (occupation)_count_subject_present',\n",
    " 'Result (navigational concept)_count',\n",
    " 'Consultant (occupation)_count',\n",
    " 'week (qualifier value)_count',\n",
    " 'Clinical (qualifier value)_count_subject_not_present',\n",
    " 'Appointment (record artifact)_count_subject_not_present',\n",
    " 'Secretary (occupation)_count_relative_not_present',\n",
    " 'Patient (person)_count',\n",
    " 'Date (attribute)_count_subject_not_present',\n",
    " 'Consultant (occupation)_count_subject_present',\n",
    " 'Road (environment)_count',\n",
    " 'Hospital (environment)_count_relative_not_present',\n",
    " 'Patient referral (procedure)_count',\n",
    " 'Patient (person)_count_subject_not_present',\n",
    " 'Date (attribute)_count_relative_not_present',\n",
    " 'Preliminary (qualifier value)_count_subject_present',\n",
    " 'Current (qualifier value)_count_subject_present',\n",
    " 'Letter (record artifact)_count_subject_not_present',\n",
    " 'Hospital (environment)_count_subject_not_present',\n",
    " 'Patient referral (procedure)_count_relative_not_present',\n",
    " 'year (qualifier value)_count',\n",
    " 'Hill (environment)_count',\n",
    " 'College (environment)_count_relative_not_present',\n",
    " 'Attended (qualifier value)_count_subject_present',\n",
    " 'Normal (qualifier value)_count_subject_present',\n",
    " 'Date (attribute)_count_subject_present',\n",
    " 'Patient review (procedure)_count_subject_present',\n",
    " 'Normal (qualifier value)_count',\n",
    " 'College (environment)_count_subject_present',\n",
    " 'College (environment)_count',\n",
    " 'Appointment (record artifact)_count',\n",
    " 'Kent (geographic location)_count_subject_present',\n",
    " 'Kent (geographic location)_count',\n",
    " 'Clinical (qualifier value)_count_relative_not_present',\n",
    " 'Patient referral (procedure)_count_subject_present',\n",
    " 'year (qualifier value)_count_relative_not_present',\n",
    " 'Hospital department (environment)_count_subject_present',\n",
    " 'Outcome of action (attribute)_count_subject_present',\n",
    " 'Hospital admission (procedure)_count_subject_present',\n",
    " 'Right (qualifier value)_count_subject_present',\n",
    " 'Clinic (environment)_count',\n",
    " 'Query (foundation metadata concept)_count_subject_present',\n",
    " 'outcome_var_1',\n",
    " 'Email (qualifier value)_count',\n",
    " 'Contact with (contextual qualifier) (qualifier value)_count_subject_present',\n",
    " 'Time (attribute)_count_subject_present',\n",
    " 'Patient (person)_count_subject_present',\n",
    " 'Reactive (qualifier value)_count_subject_present',\n",
    " 'Examination - action (qualifier value)_count_subject_present',\n",
    " 'Home (environment)_count_subject_present',\n",
    " 'Clinic (environment)_count_subject_not_present',\n",
    " '9000 (qualifier value)_count_subject_not_present',\n",
    " 'Report (record artifact)_count_subject_present',\n",
    " 'Normal (qualifier value)_count_subject_not_present',\n",
    " 'Clinical (qualifier value)_count_subject_present',\n",
    " 'Continuous (qualifier value)_count_subject_not_present',\n",
    " 'Secretary (occupation)_count',\n",
    " 'Evaluation procedure (procedure)_count',\n",
    " 'Appointment (record artifact)_count_subject_present',\n",
    " 'Date (attribute)_count',\n",
    " 'History of clinical finding in subject (situation)_count_subject_present',\n",
    " 'Address (observable entity)_count_subject_present',\n",
    " 'Outcome of action (attribute)_count_subject_presentDue to (attribute)_count_subject_present_mrc_cs',\n",
    " 'Patient (person)_count_relative_not_present',\n",
    " 'Home (environment)_count_subject_present_mrc_cs']"
   ]
  },
  {
   "cell_type": "code",
   "execution_count": null,
   "id": "14f2e30f",
   "metadata": {},
   "outputs": [],
   "source": [
    "all_annot_list = [item for item in all_annot_list if item not in misc_cols]"
   ]
  },
  {
   "cell_type": "code",
   "execution_count": null,
   "id": "9d3d04a1",
   "metadata": {},
   "outputs": [],
   "source": [
    "all_annot_list = [string for string in all_annot_list if 'subject_present' in string]\n"
   ]
  },
  {
   "cell_type": "code",
   "execution_count": null,
   "id": "1b8e6959",
   "metadata": {},
   "outputs": [],
   "source": [
    "all_annot_list.append('outcome_var_1')"
   ]
  },
  {
   "cell_type": "code",
   "execution_count": null,
   "id": "d45d0d94",
   "metadata": {},
   "outputs": [],
   "source": [
    "len(all_annot_list)"
   ]
  },
  {
   "cell_type": "code",
   "execution_count": null,
   "id": "33fba661",
   "metadata": {},
   "outputs": [],
   "source": [
    "dfa = dfs[all_annot_list].copy()"
   ]
  },
  {
   "cell_type": "code",
   "execution_count": null,
   "id": "42eb3de5",
   "metadata": {},
   "outputs": [],
   "source": []
  },
  {
   "cell_type": "code",
   "execution_count": null,
   "id": "e58f4685",
   "metadata": {},
   "outputs": [],
   "source": [
    "dfs"
   ]
  },
  {
   "cell_type": "code",
   "execution_count": null,
   "id": "a9b3bb78",
   "metadata": {},
   "outputs": [],
   "source": [
    "dfs.loc[:,~dfs.columns.duplicated()]#.copy()\n"
   ]
  },
  {
   "cell_type": "code",
   "execution_count": null,
   "id": "daa6a5ed",
   "metadata": {},
   "outputs": [],
   "source": [
    "#dfs['Plan (record artifact)_count_mrc_cs'].value_counts()"
   ]
  },
  {
   "cell_type": "code",
   "execution_count": null,
   "id": "21169d87",
   "metadata": {},
   "outputs": [],
   "source": [
    "dfa = dfa.loc[:,~dfa.columns.duplicated()]"
   ]
  },
  {
   "cell_type": "code",
   "execution_count": null,
   "id": "737f3fbc",
   "metadata": {},
   "outputs": [],
   "source": [
    "dfa"
   ]
  },
  {
   "cell_type": "code",
   "execution_count": null,
   "id": "21d5b02a",
   "metadata": {},
   "outputs": [],
   "source": [
    "%%time\n",
    "# create a dictionary to store the most common values for each column\n",
    "most_common_values = {}\n",
    "\n",
    "# loop through the columns of the DataFrame\n",
    "for col in dfa.columns:\n",
    "    # get the value counts for the column\n",
    "    value_counts = dfa[col].value_counts()\n",
    "    # get the most common value for the column\n",
    "    most_common_value = value_counts.index[0]\n",
    "    # store the most common value in the dictionary\n",
    "    most_common_values[col] = most_common_value\n",
    "\n",
    "# create a new DataFrame with the same shape as the original DataFrame, but with all values set to 0\n",
    "mask = pd.DataFrame(0, index=dfa.index, columns=dfa.columns)\n",
    "\n",
    "# loop through the columns of the DataFrame\n",
    "for col in dfa.columns:\n",
    "    # get the most common value for the column\n",
    "    most_common_value = most_common_values[col]\n",
    "    # set the mask to 1 for all values that are not equal to the most common value\n",
    "    mask.loc[dfa[col] != most_common_value, col] = 1\n",
    "\n",
    "mask"
   ]
  },
  {
   "cell_type": "code",
   "execution_count": null,
   "id": "ee0e046c",
   "metadata": {},
   "outputs": [],
   "source": [
    "mask['Hemochromatosis gene screening test (procedure)_count_subject_present'].value_counts()"
   ]
  },
  {
   "cell_type": "code",
   "execution_count": null,
   "id": "5fb7c72a",
   "metadata": {},
   "outputs": [],
   "source": [
    "#dfs['Iron overload (disorder)_count'].value_counts()"
   ]
  },
  {
   "cell_type": "code",
   "execution_count": null,
   "id": "63e59c97",
   "metadata": {},
   "outputs": [],
   "source": [
    "mask"
   ]
  },
  {
   "cell_type": "code",
   "execution_count": null,
   "id": "acf595a6",
   "metadata": {},
   "outputs": [],
   "source": []
  },
  {
   "cell_type": "code",
   "execution_count": null,
   "id": "be85d646",
   "metadata": {},
   "outputs": [],
   "source": [
    "dfs[all_annot_list]#.value_counts()"
   ]
  },
  {
   "cell_type": "code",
   "execution_count": null,
   "id": "9ee6d933",
   "metadata": {},
   "outputs": [],
   "source": []
  },
  {
   "cell_type": "code",
   "execution_count": null,
   "id": "452bdb7d",
   "metadata": {},
   "outputs": [],
   "source": []
  },
  {
   "cell_type": "code",
   "execution_count": null,
   "id": "274e3a2e",
   "metadata": {},
   "outputs": [],
   "source": [
    "#%pip install mlxtend"
   ]
  },
  {
   "cell_type": "code",
   "execution_count": null,
   "id": "4e750e3c",
   "metadata": {},
   "outputs": [],
   "source": [
    "from mlxtend.frequent_patterns import association_rules\n",
    "from mlxtend.frequent_patterns import apriori\n"
   ]
  },
  {
   "cell_type": "code",
   "execution_count": null,
   "id": "b45f16a9",
   "metadata": {},
   "outputs": [],
   "source": [
    "df_orders = mask"
   ]
  },
  {
   "cell_type": "code",
   "execution_count": null,
   "id": "569453dc",
   "metadata": {},
   "outputs": [],
   "source": [
    "df_orders"
   ]
  },
  {
   "cell_type": "code",
   "execution_count": null,
   "id": "bf7f0adc",
   "metadata": {
    "scrolled": true
   },
   "outputs": [],
   "source": [
    "%%time\n",
    "#Compute items that sell at minimum in 0.001% of all orders placed in the month (min_support)\n",
    "frequent_itemsets = apriori(df_orders, min_support = 0.2,max_len = 12, use_colnames = True)\n",
    "\n",
    "#Compute pairs of orders that have a meaningful lift of more than 1 in their sales when marketed together\n",
    "frequent_itemsets_rules = association_rules(frequent_itemsets,metric = \"lift\", min_threshold = 1.0)\n",
    "\n",
    "frequent_itemsets_rules"
   ]
  },
  {
   "cell_type": "code",
   "execution_count": null,
   "id": "3ba38c77",
   "metadata": {},
   "outputs": [],
   "source": [
    "# for col in df.columns:\n",
    "#     if(col.lower().find(\"hemoc\") != -1):\n",
    "#         print(col)\n",
    "#         display()"
   ]
  },
  {
   "cell_type": "code",
   "execution_count": null,
   "id": "8f2defe5",
   "metadata": {},
   "outputs": [],
   "source": [
    "list_antecedents = frequent_itemsets_rules['antecedents'].apply(lambda x: ', '.join(list(x))).to_list()"
   ]
  },
  {
   "cell_type": "code",
   "execution_count": null,
   "id": "93f5c7ab",
   "metadata": {},
   "outputs": [],
   "source": [
    "list_consequents = frequent_itemsets_rules['consequents'].apply(lambda x: ', '.join(list(x))).to_list()"
   ]
  },
  {
   "cell_type": "code",
   "execution_count": null,
   "id": "e4680a48",
   "metadata": {},
   "outputs": [],
   "source": [
    "type(list_antecedents)"
   ]
  },
  {
   "cell_type": "code",
   "execution_count": null,
   "id": "4e2f59d2",
   "metadata": {},
   "outputs": [],
   "source": [
    "list_consequents_antecedents = []\n",
    "list_consequents_antecedents.extend(list_antecedents)\n",
    "list_consequents_antecedents.extend(list_consequents)"
   ]
  },
  {
   "cell_type": "code",
   "execution_count": null,
   "id": "66f7cb7a",
   "metadata": {},
   "outputs": [],
   "source": [
    "# list_antecedents = []\n",
    "\n",
    "# for i in range(0, len(frequent_itemsets_rules)):\n",
    "#     list_antecedents.append(sorted(frequent_itemsets_rules.iloc[i]['antecedents'])[0])\n",
    "#     list_antecedents.append(sorted(frequent_itemsets_rules.iloc[i]['consequents'])[0])\n",
    "\n",
    "# list_antecedents = list(set(list_antecedents))"
   ]
  },
  {
   "cell_type": "code",
   "execution_count": null,
   "id": "0241b885",
   "metadata": {},
   "outputs": [],
   "source": [
    "len(list_consequents_antecedents)"
   ]
  },
  {
   "cell_type": "code",
   "execution_count": null,
   "id": "fa75d864",
   "metadata": {},
   "outputs": [],
   "source": [
    "len(set(list_consequents_antecedents))"
   ]
  },
  {
   "cell_type": "code",
   "execution_count": null,
   "id": "9a42ec5c",
   "metadata": {},
   "outputs": [],
   "source": []
  },
  {
   "cell_type": "code",
   "execution_count": null,
   "id": "a66badc0",
   "metadata": {},
   "outputs": [],
   "source": [
    "list_consequents_antecedents = list(set(list_consequents_antecedents))"
   ]
  },
  {
   "cell_type": "code",
   "execution_count": null,
   "id": "5034f653",
   "metadata": {
    "scrolled": true
   },
   "outputs": [],
   "source": [
    "list_consequents_antecedents[0:50]"
   ]
  },
  {
   "cell_type": "code",
   "execution_count": null,
   "id": "a1bff7f2",
   "metadata": {},
   "outputs": [],
   "source": [
    "for col in list_consequents_antecedents:\n",
    "    if(col.lower().find(\"hemo\") != -1):\n",
    "        print(col)"
   ]
  },
  {
   "cell_type": "code",
   "execution_count": null,
   "id": "762a4bba",
   "metadata": {},
   "outputs": [],
   "source": [
    "#frequent_itemsets_rules['outcome_var_1']"
   ]
  },
  {
   "cell_type": "code",
   "execution_count": null,
   "id": "3d3a2368",
   "metadata": {},
   "outputs": [],
   "source": [
    "pd.set_option('display.max_rows', 200)"
   ]
  },
  {
   "cell_type": "code",
   "execution_count": null,
   "id": "a0f1e752",
   "metadata": {},
   "outputs": [],
   "source": [
    "frequent_itemsets_rules.sort_values(by='lift')"
   ]
  },
  {
   "cell_type": "code",
   "execution_count": null,
   "id": "4e389ee0",
   "metadata": {
    "scrolled": false
   },
   "outputs": [],
   "source": [
    "frequent_itemsets_rules.sort_values(by='antecedent support')"
   ]
  },
  {
   "cell_type": "code",
   "execution_count": null,
   "id": "a2dbcf60",
   "metadata": {},
   "outputs": [],
   "source": [
    "given_string = 'outcome_var_1'\n",
    "filtered_rules = frequent_itemsets_rules[frequent_itemsets_rules['antecedents'].apply(lambda x: given_string in x)]"
   ]
  },
  {
   "cell_type": "code",
   "execution_count": null,
   "id": "47108697",
   "metadata": {},
   "outputs": [],
   "source": [
    "filtered_rules"
   ]
  },
  {
   "cell_type": "code",
   "execution_count": null,
   "id": "93545963",
   "metadata": {},
   "outputs": [],
   "source": [
    "df['outcome_var_1'].value_counts()"
   ]
  },
  {
   "cell_type": "code",
   "execution_count": null,
   "id": "35a276f0",
   "metadata": {},
   "outputs": [],
   "source": [
    "frequent_itemsets_rules.sort_values(by='leverage')"
   ]
  },
  {
   "cell_type": "code",
   "execution_count": null,
   "id": "4a3114a7",
   "metadata": {},
   "outputs": [],
   "source": []
  },
  {
   "cell_type": "code",
   "execution_count": null,
   "id": "6abc97d0",
   "metadata": {},
   "outputs": [],
   "source": [
    "frequent_itemsets"
   ]
  },
  {
   "cell_type": "code",
   "execution_count": null,
   "id": "99cf9cab",
   "metadata": {},
   "outputs": [],
   "source": []
  },
  {
   "cell_type": "code",
   "execution_count": null,
   "id": "73ee51e5",
   "metadata": {},
   "outputs": [],
   "source": []
  }
 ],
 "metadata": {
  "kernelspec": {
   "display_name": "Python 3 (ipykernel)",
   "language": "python",
   "name": "python3"
  },
  "language_info": {
   "codemirror_mode": {
    "name": "ipython",
    "version": 3
   },
   "file_extension": ".py",
   "mimetype": "text/x-python",
   "name": "python",
   "nbconvert_exporter": "python",
   "pygments_lexer": "ipython3",
   "version": "3.9.7"
  },
  "varInspector": {
   "cols": {
    "lenName": 16,
    "lenType": 16,
    "lenVar": 40
   },
   "kernels_config": {
    "python": {
     "delete_cmd_postfix": "",
     "delete_cmd_prefix": "del ",
     "library": "var_list.py",
     "varRefreshCmd": "print(var_dic_list())"
    },
    "r": {
     "delete_cmd_postfix": ") ",
     "delete_cmd_prefix": "rm(",
     "library": "var_list.r",
     "varRefreshCmd": "cat(var_dic_list()) "
    }
   },
   "types_to_exclude": [
    "module",
    "function",
    "builtin_function_or_method",
    "instance",
    "_Feature"
   ],
   "window_display": false
  }
 },
 "nbformat": 4,
 "nbformat_minor": 5
}
